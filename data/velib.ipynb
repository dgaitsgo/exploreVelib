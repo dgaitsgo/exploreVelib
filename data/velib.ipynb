{
 "cells": [
  {
   "cell_type": "code",
   "execution_count": 1,
   "metadata": {},
   "outputs": [],
   "source": [
    "#library imports\n",
    "import json\n",
    "import numpy as np\n",
    "import pandas as pd\n",
    "import matplotlib.pyplot as plt\n",
    "from json import JSONDecoder, JSONDecodeError\n",
    "import statistics\n",
    "import re\n",
    "import jenkspy"
   ]
  },
  {
   "cell_type": "code",
   "execution_count": 2,
   "metadata": {},
   "outputs": [],
   "source": [
    "#importing data\n",
    "month_velib = open('./raw_sets/velib/data_all_Paris.jjson_2017-09-01-1504239946.jjson', 'r').read()\n",
    "\n",
    "NOT_WHITESPACE = re.compile(r'[^\\s]')\n",
    "\n",
    "def decode_stacked(document, pos=0, decoder=JSONDecoder()):\n",
    "    while True:\n",
    "        match = NOT_WHITESPACE.search(document, pos)\n",
    "        if not match:\n",
    "            return\n",
    "        pos = match.start()\n",
    "\n",
    "        try:\n",
    "            obj, pos = decoder.raw_decode(document, pos)\n",
    "        except JSONDecodeError:\n",
    "            # do something sensible if there's some error\n",
    "            raise\n",
    "        yield obj\n",
    "\n"
   ]
  },
  {
   "cell_type": "code",
   "execution_count": 3,
   "metadata": {},
   "outputs": [],
   "source": [
    "#decode each json observation in month\n",
    "df = []\n",
    "for obj in decode_stacked(month_velib):\n",
    "    df.append(pd.DataFrame(obj))\n",
    "# sample\n",
    "# obs = pd.DataFrame(next(decode_stacked(month_velib)))\n"
   ]
  },
  {
   "cell_type": "code",
   "execution_count": 4,
   "metadata": {},
   "outputs": [],
   "source": [
    "\"\"\"\n",
    "Restructuring the data so that all of the unique observations are organized per station\n",
    "\"\"\"\n",
    "\n",
    "stations = {}\n",
    "for observation in df:\n",
    "    for row in observation.iterrows():\n",
    "        station = row[1]\n",
    "        number = str(station['number'])\n",
    "        last_update = str(station['last_update'])\n",
    "        if number not in stations:\n",
    "            stations[number] = {}\n",
    "        #make sure it's not a duplicate observation\n",
    "        if last_update not in stations[number]:\n",
    "            stations[number][last_update] = {\n",
    "                'available_bikes' : station['available_bikes'],\n",
    "                'available_bike_stands' : station['available_bike_stands'],\n",
    "                'bike_stands' : station['bike_stands']\n",
    "            }"
   ]
  },
  {
   "cell_type": "code",
   "execution_count": 6,
   "metadata": {},
   "outputs": [],
   "source": [
    "\"\"\"\n",
    "Now that the data is organized by station, find the std deviation of bikes available\n",
    "\n",
    "concerns:\n",
    "- underestimating singletons where the same amount of bikes docked\n",
    "\"\"\"\n",
    "\n",
    "station_keys = list(stations.keys())\n",
    "ambig = []\n",
    "for station_key in station_keys:\n",
    "    station = stations[station_key]\n",
    "    station['availability'] = []\n",
    "    station['availability_scaled'] = []\n",
    "    for timestamp in station.keys():\n",
    "        timestamp = str(timestamp)\n",
    "        if type(station[timestamp]) == dict:\n",
    "            bikes = station[timestamp]['available_bikes']\n",
    "            bikes_scaled = station[timestamp]['available_bikes'] / station[timestamp]['bike_stands']\n",
    "            station['availability'].append(bikes)\n",
    "            station['availability_scaled'].append(bikes_scaled)\n",
    "        else:\n",
    "            ambig.append(timestamp)\n",
    "    #calc std deviation\n",
    "    station['stddev'] = statistics.stdev(station['availability'])\n",
    "    station['stddev_scaled'] = statistics.stdev(station['availability_scaled'])"
   ]
  },
  {
   "cell_type": "code",
   "execution_count": 7,
   "metadata": {},
   "outputs": [
    {
     "data": {
      "text/plain": [
       "(array([ 51., 146., 173., 221., 153., 128., 106.,  78.,  51.,  28.,  21.,\n",
       "         13.,  11.,   8.,   4.]),\n",
       " array([ 0.71041137,  2.06605295,  3.42169453,  4.77733611,  6.13297769,\n",
       "         7.48861927,  8.84426086, 10.19990244, 11.55554402, 12.9111856 ,\n",
       "        14.26682718, 15.62246876, 16.97811035, 18.33375193, 19.68939351,\n",
       "        21.04503509]),\n",
       " <a list of 15 Patch objects>)"
      ]
     },
     "execution_count": 7,
     "metadata": {},
     "output_type": "execute_result"
    },
    {
     "data": {
      "image/png": "[encoded data removed]",
      "text/plain": [
       "<Figure size 432x288 with 1 Axes>"
      ]
     },
     "metadata": {
      "needs_background": "light"
     },
     "output_type": "display_data"
    }
   ],
   "source": [
    "\"\"\"\n",
    "Exploring the distribution of deviations\n",
    "\"\"\"\n",
    "deviations = []\n",
    "deviations_scaled = []\n",
    "for station_key in station_keys:\n",
    "    station = stations[station_key]\n",
    "    if station['stddev']:\n",
    "        deviations_scaled.append(station['stddev_scaled'])\n",
    "        deviations.append(station['stddev'])\n",
    "\n",
    "#trimming extreme values\n",
    "deviations = sorted(deviations)[3:-3]\n",
    "deviations_scaled = sorted(deviations_scaled)[3:-3]\n",
    "plt.hist(deviations, 15)"
   ]
  },
  {
   "cell_type": "code",
   "execution_count": 8,
   "metadata": {},
   "outputs": [
    {
     "data": {
      "text/plain": [
       "(array([ 13.,  37.,  63.,  78.,  81.,  76.,  94., 112., 125., 126., 141.,\n",
       "        128.,  73.,  31.,  14.]),\n",
       " array([0.02410019, 0.04847682, 0.07285346, 0.09723009, 0.12160672,\n",
       "        0.14598335, 0.17035998, 0.19473661, 0.21911324, 0.24348988,\n",
       "        0.26786651, 0.29224314, 0.31661977, 0.3409964 , 0.36537303,\n",
       "        0.38974966]),\n",
       " <a list of 15 Patch objects>)"
      ]
     },
     "execution_count": 8,
     "metadata": {},
     "output_type": "execute_result"
    },
    {
     "data": {
      "image/png": "[encoded data removed]",
      "text/plain": [
       "<Figure size 432x288 with 1 Axes>"
      ]
     },
     "metadata": {
      "needs_background": "light"
     },
     "output_type": "display_data"
    }
   ],
   "source": [
    "plt.hist(deviations_scaled, 15)"
   ]
  },
  {
   "cell_type": "code",
   "execution_count": 44,
   "metadata": {
    "scrolled": false
   },
   "outputs": [
    {
     "name": "stdout",
     "output_type": "stream",
     "text": [
      "[[314, 428, 450], [240, 283, 328, 341], [184, 203, 298, 314, 193], [129, 184, 211, 240, 276, 152]]\n"
     ]
    },
    {
     "data": {
      "image/png": "[encoded data removed]",
      "text/plain": [
       "<Figure size 432x288 with 1 Axes>"
      ]
     },
     "metadata": {
      "needs_background": "light"
     },
     "output_type": "display_data"
    },
    {
     "data": {
      "image/png": "[encoded data removed]",
      "text/plain": [
       "<Figure size 432x288 with 1 Axes>"
      ]
     },
     "metadata": {
      "needs_background": "light"
     },
     "output_type": "display_data"
    },
    {
     "data": {
      "image/png": "[encoded data removed]",
      "text/plain": [
       "<Figure size 432x288 with 1 Axes>"
      ]
     },
     "metadata": {
      "needs_background": "light"
     },
     "output_type": "display_data"
    },
    {
     "data": {
      "image/png": "[encoded data removed]",
      "text/plain": [
       "<Figure size 432x288 with 1 Axes>"
      ]
     },
     "metadata": {
      "needs_background": "light"
     },
     "output_type": "display_data"
    }
   ],
   "source": [
    "\"\"\"\n",
    "Clustering based on Jenks Normal\n",
    "\"\"\"\n",
    "classes = []\n",
    "groups = []\n",
    "\n",
    "def find_break_idx(n, breaks):\n",
    "    last = len(breaks) - 1\n",
    "    for i in range(last):\n",
    "        if breaks[i] > n and n < breaks[i + 1]:\n",
    "            return i\n",
    "    return (last)\n",
    "\n",
    "for i in range(3, 7):\n",
    "    classes.append(jenkspy.jenks_breaks(deviations_scaled, nb_class=i))\n",
    "    groups.append([])\n",
    "\n",
    "for idx, breaks in enumerate(classes):\n",
    "    for i in range(len(breaks)):\n",
    "        groups[idx].append([])\n",
    "        \n",
    "for idx, breaks in enumerate(classes):\n",
    "    for dev in deviations_scaled:\n",
    "        i = find_break_idx(dev, breaks)\n",
    "        groups[idx][i].append(dev)\n",
    "\n",
    "bars = []\n",
    "for idx, group in enumerate(groups):\n",
    "    bars.append([])\n",
    "    for breaks in group:\n",
    "        bars[idx].append(len(breaks))\n",
    "\n",
    "for idx, bar in enumerate(bars):\n",
    "    bars[idx] = bars[idx][1:]\n",
    "\n",
    "print(bars)\n",
    "    \n",
    "for idx, bar in enumerate(bars):\n",
    "    plt.figure(idx)\n",
    "    plt.title(str(idx + 3) + ' groups')\n",
    "    plt.bar(range(len(bar)), bar)\n"
   ]
  },
  {
   "cell_type": "code",
   "execution_count": null,
   "metadata": {},
   "outputs": [],
   "source": []
  }
 ],
 "metadata": {
  "kernelspec": {
   "display_name": "Python 3",
   "language": "python",
   "name": "python3"
  },
  "language_info": {
   "codemirror_mode": {
    "name": "ipython",
    "version": 3
   },
   "file_extension": ".py",
   "mimetype": "text/x-python",
   "name": "python",
   "nbconvert_exporter": "python",
   "pygments_lexer": "ipython3",
   "version": "3.6.0"
  }
 },
 "nbformat": 4,
 "nbformat_minor": 2
}
